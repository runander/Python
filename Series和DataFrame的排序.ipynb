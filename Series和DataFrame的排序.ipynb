{
 "cells": [
  {
   "cell_type": "code",
   "execution_count": 1,
   "metadata": {},
   "outputs": [],
   "source": [
    "import numpy as np\n",
    "import pandas as pd\n",
    "from pandas import Series,DataFrame"
   ]
  },
  {
   "cell_type": "markdown",
   "metadata": {},
   "source": [
    "# Series的排序"
   ]
  },
  {
   "cell_type": "code",
   "execution_count": 2,
   "metadata": {},
   "outputs": [
    {
     "data": {
      "text/plain": [
       "0   -1.039625\n",
       "1    0.182749\n",
       "2   -1.107449\n",
       "3   -1.172206\n",
       "4   -0.372466\n",
       "5   -0.546886\n",
       "6   -0.425286\n",
       "7    0.479654\n",
       "8   -1.561597\n",
       "9    3.464567\n",
       "dtype: float64"
      ]
     },
     "execution_count": 2,
     "metadata": {},
     "output_type": "execute_result"
    }
   ],
   "source": [
    "s1 = Series(np.random.randn(10))\n",
    "s1"
   ]
  },
  {
   "cell_type": "code",
   "execution_count": 4,
   "metadata": {},
   "outputs": [
    {
     "data": {
      "text/plain": [
       "array([-1.03962503,  0.18274925, -1.10744931, -1.17220615, -0.37246606,\n",
       "       -0.54688574, -0.4252861 ,  0.47965415, -1.56159714,  3.46456683])"
      ]
     },
     "execution_count": 4,
     "metadata": {},
     "output_type": "execute_result"
    }
   ],
   "source": [
    "s1.values"
   ]
  },
  {
   "cell_type": "code",
   "execution_count": 5,
   "metadata": {},
   "outputs": [
    {
     "data": {
      "text/plain": [
       "RangeIndex(start=0, stop=10, step=1)"
      ]
     },
     "execution_count": 5,
     "metadata": {},
     "output_type": "execute_result"
    }
   ],
   "source": [
    "s1.index"
   ]
  },
  {
   "cell_type": "code",
   "execution_count": 6,
   "metadata": {},
   "outputs": [
    {
     "data": {
      "text/plain": [
       "8   -1.561597\n",
       "3   -1.172206\n",
       "2   -1.107449\n",
       "0   -1.039625\n",
       "5   -0.546886\n",
       "6   -0.425286\n",
       "4   -0.372466\n",
       "1    0.182749\n",
       "7    0.479654\n",
       "9    3.464567\n",
       "dtype: float64"
      ]
     },
     "execution_count": 6,
     "metadata": {},
     "output_type": "execute_result"
    }
   ],
   "source": [
    "s2 = s1.sort_values()\n",
    "s2"
   ]
  },
  {
   "cell_type": "code",
   "execution_count": 7,
   "metadata": {},
   "outputs": [
    {
     "data": {
      "text/plain": [
       "9    3.464567\n",
       "7    0.479654\n",
       "1    0.182749\n",
       "4   -0.372466\n",
       "6   -0.425286\n",
       "5   -0.546886\n",
       "0   -1.039625\n",
       "2   -1.107449\n",
       "3   -1.172206\n",
       "8   -1.561597\n",
       "dtype: float64"
      ]
     },
     "execution_count": 7,
     "metadata": {},
     "output_type": "execute_result"
    }
   ],
   "source": [
    "s2 = s1.sort_values(ascending=False)# 降序排列\n",
    "s2"
   ]
  },
  {
   "cell_type": "code",
   "execution_count": 8,
   "metadata": {},
   "outputs": [
    {
     "data": {
      "text/plain": [
       "0   -1.039625\n",
       "1    0.182749\n",
       "2   -1.107449\n",
       "3   -1.172206\n",
       "4   -0.372466\n",
       "5   -0.546886\n",
       "6   -0.425286\n",
       "7    0.479654\n",
       "8   -1.561597\n",
       "9    3.464567\n",
       "dtype: float64"
      ]
     },
     "execution_count": 8,
     "metadata": {},
     "output_type": "execute_result"
    }
   ],
   "source": [
    "s2.sort_index()#按照index排序"
   ]
  },
  {
   "cell_type": "markdown",
   "metadata": {},
   "source": [
    "# DataFrame排序"
   ]
  },
  {
   "cell_type": "code",
   "execution_count": 9,
   "metadata": {},
   "outputs": [
    {
     "data": {
      "text/html": [
       "<div>\n",
       "<style scoped>\n",
       "    .dataframe tbody tr th:only-of-type {\n",
       "        vertical-align: middle;\n",
       "    }\n",
       "\n",
       "    .dataframe tbody tr th {\n",
       "        vertical-align: top;\n",
       "    }\n",
       "\n",
       "    .dataframe thead th {\n",
       "        text-align: right;\n",
       "    }\n",
       "</style>\n",
       "<table border=\"1\" class=\"dataframe\">\n",
       "  <thead>\n",
       "    <tr style=\"text-align: right;\">\n",
       "      <th></th>\n",
       "      <th>A</th>\n",
       "      <th>B</th>\n",
       "      <th>C</th>\n",
       "      <th>D</th>\n",
       "      <th>E</th>\n",
       "    </tr>\n",
       "  </thead>\n",
       "  <tbody>\n",
       "    <tr>\n",
       "      <th>0</th>\n",
       "      <td>-0.867365</td>\n",
       "      <td>0.255017</td>\n",
       "      <td>-1.288899</td>\n",
       "      <td>0.040876</td>\n",
       "      <td>0.699963</td>\n",
       "    </tr>\n",
       "    <tr>\n",
       "      <th>1</th>\n",
       "      <td>0.382660</td>\n",
       "      <td>0.859159</td>\n",
       "      <td>1.895505</td>\n",
       "      <td>0.436301</td>\n",
       "      <td>2.028677</td>\n",
       "    </tr>\n",
       "    <tr>\n",
       "      <th>2</th>\n",
       "      <td>-0.132577</td>\n",
       "      <td>-1.334494</td>\n",
       "      <td>1.118474</td>\n",
       "      <td>1.328384</td>\n",
       "      <td>0.160784</td>\n",
       "    </tr>\n",
       "    <tr>\n",
       "      <th>3</th>\n",
       "      <td>0.328182</td>\n",
       "      <td>0.607234</td>\n",
       "      <td>-0.232939</td>\n",
       "      <td>-0.929446</td>\n",
       "      <td>2.583126</td>\n",
       "    </tr>\n",
       "    <tr>\n",
       "      <th>4</th>\n",
       "      <td>-2.076070</td>\n",
       "      <td>-0.000926</td>\n",
       "      <td>0.089387</td>\n",
       "      <td>0.978829</td>\n",
       "      <td>-2.348531</td>\n",
       "    </tr>\n",
       "    <tr>\n",
       "      <th>5</th>\n",
       "      <td>0.438047</td>\n",
       "      <td>0.035420</td>\n",
       "      <td>-0.516043</td>\n",
       "      <td>-0.646601</td>\n",
       "      <td>-1.902249</td>\n",
       "    </tr>\n",
       "    <tr>\n",
       "      <th>6</th>\n",
       "      <td>-0.542915</td>\n",
       "      <td>0.960846</td>\n",
       "      <td>0.297646</td>\n",
       "      <td>0.255881</td>\n",
       "      <td>-1.086495</td>\n",
       "    </tr>\n",
       "    <tr>\n",
       "      <th>7</th>\n",
       "      <td>-1.102281</td>\n",
       "      <td>0.515002</td>\n",
       "      <td>1.394761</td>\n",
       "      <td>-0.569817</td>\n",
       "      <td>0.955565</td>\n",
       "    </tr>\n",
       "  </tbody>\n",
       "</table>\n",
       "</div>"
      ],
      "text/plain": [
       "          A         B         C         D         E\n",
       "0 -0.867365  0.255017 -1.288899  0.040876  0.699963\n",
       "1  0.382660  0.859159  1.895505  0.436301  2.028677\n",
       "2 -0.132577 -1.334494  1.118474  1.328384  0.160784\n",
       "3  0.328182  0.607234 -0.232939 -0.929446  2.583126\n",
       "4 -2.076070 -0.000926  0.089387  0.978829 -2.348531\n",
       "5  0.438047  0.035420 -0.516043 -0.646601 -1.902249\n",
       "6 -0.542915  0.960846  0.297646  0.255881 -1.086495\n",
       "7 -1.102281  0.515002  1.394761 -0.569817  0.955565"
      ]
     },
     "execution_count": 9,
     "metadata": {},
     "output_type": "execute_result"
    }
   ],
   "source": [
    "df1 = DataFrame(np.random.randn(40).reshape(8,5),columns=['A','B','C','D','E'])\n",
    "df1"
   ]
  },
  {
   "cell_type": "code",
   "execution_count": 10,
   "metadata": {},
   "outputs": [
    {
     "data": {
      "text/plain": [
       "4   -2.076070\n",
       "7   -1.102281\n",
       "0   -0.867365\n",
       "6   -0.542915\n",
       "2   -0.132577\n",
       "3    0.328182\n",
       "1    0.382660\n",
       "5    0.438047\n",
       "Name: A, dtype: float64"
      ]
     },
     "execution_count": 10,
     "metadata": {},
     "output_type": "execute_result"
    }
   ],
   "source": [
    "df1['A'].sort_values()"
   ]
  },
  {
   "cell_type": "code",
   "execution_count": 11,
   "metadata": {},
   "outputs": [
    {
     "data": {
      "text/html": [
       "<div>\n",
       "<style scoped>\n",
       "    .dataframe tbody tr th:only-of-type {\n",
       "        vertical-align: middle;\n",
       "    }\n",
       "\n",
       "    .dataframe tbody tr th {\n",
       "        vertical-align: top;\n",
       "    }\n",
       "\n",
       "    .dataframe thead th {\n",
       "        text-align: right;\n",
       "    }\n",
       "</style>\n",
       "<table border=\"1\" class=\"dataframe\">\n",
       "  <thead>\n",
       "    <tr style=\"text-align: right;\">\n",
       "      <th></th>\n",
       "      <th>A</th>\n",
       "      <th>B</th>\n",
       "      <th>C</th>\n",
       "      <th>D</th>\n",
       "      <th>E</th>\n",
       "    </tr>\n",
       "  </thead>\n",
       "  <tbody>\n",
       "    <tr>\n",
       "      <th>4</th>\n",
       "      <td>-2.076070</td>\n",
       "      <td>-0.000926</td>\n",
       "      <td>0.089387</td>\n",
       "      <td>0.978829</td>\n",
       "      <td>-2.348531</td>\n",
       "    </tr>\n",
       "    <tr>\n",
       "      <th>7</th>\n",
       "      <td>-1.102281</td>\n",
       "      <td>0.515002</td>\n",
       "      <td>1.394761</td>\n",
       "      <td>-0.569817</td>\n",
       "      <td>0.955565</td>\n",
       "    </tr>\n",
       "    <tr>\n",
       "      <th>0</th>\n",
       "      <td>-0.867365</td>\n",
       "      <td>0.255017</td>\n",
       "      <td>-1.288899</td>\n",
       "      <td>0.040876</td>\n",
       "      <td>0.699963</td>\n",
       "    </tr>\n",
       "    <tr>\n",
       "      <th>6</th>\n",
       "      <td>-0.542915</td>\n",
       "      <td>0.960846</td>\n",
       "      <td>0.297646</td>\n",
       "      <td>0.255881</td>\n",
       "      <td>-1.086495</td>\n",
       "    </tr>\n",
       "    <tr>\n",
       "      <th>2</th>\n",
       "      <td>-0.132577</td>\n",
       "      <td>-1.334494</td>\n",
       "      <td>1.118474</td>\n",
       "      <td>1.328384</td>\n",
       "      <td>0.160784</td>\n",
       "    </tr>\n",
       "    <tr>\n",
       "      <th>3</th>\n",
       "      <td>0.328182</td>\n",
       "      <td>0.607234</td>\n",
       "      <td>-0.232939</td>\n",
       "      <td>-0.929446</td>\n",
       "      <td>2.583126</td>\n",
       "    </tr>\n",
       "    <tr>\n",
       "      <th>1</th>\n",
       "      <td>0.382660</td>\n",
       "      <td>0.859159</td>\n",
       "      <td>1.895505</td>\n",
       "      <td>0.436301</td>\n",
       "      <td>2.028677</td>\n",
       "    </tr>\n",
       "    <tr>\n",
       "      <th>5</th>\n",
       "      <td>0.438047</td>\n",
       "      <td>0.035420</td>\n",
       "      <td>-0.516043</td>\n",
       "      <td>-0.646601</td>\n",
       "      <td>-1.902249</td>\n",
       "    </tr>\n",
       "  </tbody>\n",
       "</table>\n",
       "</div>"
      ],
      "text/plain": [
       "          A         B         C         D         E\n",
       "4 -2.076070 -0.000926  0.089387  0.978829 -2.348531\n",
       "7 -1.102281  0.515002  1.394761 -0.569817  0.955565\n",
       "0 -0.867365  0.255017 -1.288899  0.040876  0.699963\n",
       "6 -0.542915  0.960846  0.297646  0.255881 -1.086495\n",
       "2 -0.132577 -1.334494  1.118474  1.328384  0.160784\n",
       "3  0.328182  0.607234 -0.232939 -0.929446  2.583126\n",
       "1  0.382660  0.859159  1.895505  0.436301  2.028677\n",
       "5  0.438047  0.035420 -0.516043 -0.646601 -1.902249"
      ]
     },
     "execution_count": 11,
     "metadata": {},
     "output_type": "execute_result"
    }
   ],
   "source": [
    "df1.sort_values('A')"
   ]
  },
  {
   "cell_type": "code",
   "execution_count": null,
   "metadata": {},
   "outputs": [],
   "source": []
  }
 ],
 "metadata": {
  "kernelspec": {
   "display_name": "Python 3",
   "language": "python",
   "name": "python3"
  },
  "language_info": {
   "codemirror_mode": {
    "name": "ipython",
    "version": 3
   },
   "file_extension": ".py",
   "mimetype": "text/x-python",
   "name": "python",
   "nbconvert_exporter": "python",
   "pygments_lexer": "ipython3",
   "version": "3.5.4"
  }
 },
 "nbformat": 4,
 "nbformat_minor": 2
}
